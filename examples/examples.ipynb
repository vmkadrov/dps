{
 "cells": [
  {
   "cell_type": "markdown",
   "metadata": {},
   "source": [
    "# Примеры использования"
   ]
  },
  {
   "cell_type": "code",
   "execution_count": 1,
   "metadata": {
    "vscode": {
     "languageId": "python"
    }
   },
   "outputs": [],
   "source": [
    "load(\"../src/dps.sage\")"
   ]
  },
  {
   "cell_type": "markdown",
   "metadata": {},
   "source": [
    "**Протестировано на версии Sage 9.2**"
   ]
  },
  {
   "cell_type": "code",
   "execution_count": 2,
   "metadata": {
    "vscode": {
     "languageId": "python"
    }
   },
   "outputs": [],
   "source": [
    "import warnings\n",
    "warnings.filterwarnings('ignore')"
   ]
  },
  {
   "cell_type": "markdown",
   "metadata": {},
   "source": [
    "Необходимо задать схему в виде правой части дифференциального уравнения \n",
    "$$\n",
    "\\frac{dx}{dt} = F(\\hat{x}, x, dt)\n",
    "$$\n",
    "В качестве исходной функции нужно задать [формальную функцию](https://doc.sagemath.org/html/en/reference/calculus/sage/symbolic/function_factory.html). Обратите внимание, что:"
   ]
  },
  {
   "cell_type": "code",
   "execution_count": 3,
   "metadata": {
    "vscode": {
     "languageId": "python"
    }
   },
   "outputs": [
    {
     "data": {
      "text/plain": [
       "False"
      ]
     },
     "execution_count": 3,
     "metadata": {},
     "output_type": "execute_result"
    }
   ],
   "source": [
    "var('x')\n",
    "function('f') == function('f')(x)"
   ]
  },
  {
   "cell_type": "markdown",
   "metadata": {},
   "source": [
    "## Коэффициенты"
   ]
  },
  {
   "cell_type": "markdown",
   "metadata": {},
   "source": [
    "### Неявная схема"
   ]
  },
  {
   "cell_type": "code",
   "execution_count": 4,
   "metadata": {
    "vscode": {
     "languageId": "python"
    }
   },
   "outputs": [],
   "source": [
    "var('xx,x,t')\n",
    "a_param = var(['a'] +['a' + str(i) for i in range(10)])\n",
    "f = function('f', nargs = 1)\n",
    "F = a0*f(xx) + a1*f(x)"
   ]
  },
  {
   "cell_type": "code",
   "execution_count": 5,
   "metadata": {
    "vscode": {
     "languageId": "python"
    }
   },
   "outputs": [
    {
     "name": "stdout",
     "output_type": "stream",
     "text": [
      "\\frac{dx}{dt} = a_{1} f\\left(x\\right) + a_{0} f\\left(\\mathit{xx}\\right)\n"
     ]
    }
   ],
   "source": [
    "s = Scheme([x,t],[f,_],a_param, F, order = 2, n_val = xx)\n",
    "s.latex()"
   ]
  },
  {
   "cell_type": "markdown",
   "metadata": {},
   "source": [
    "$$\\frac{dx}{dt} = a_{1} f\\left(x\\right) + a_{0} f\\left(\\mathit{xx}\\right)$$"
   ]
  },
  {
   "cell_type": "code",
   "execution_count": 6,
   "metadata": {
    "vscode": {
     "languageId": "python"
    }
   },
   "outputs": [
    {
     "data": {
      "text/plain": [
       "[x == x,\n",
       " x^2 + 1 == (a0 + a1)*x^2 + a0 + a1,\n",
       " x^3 + x == 2*(a0^2 + a0*a1)*x^3 + 2*(a0^2 + a0*a1)*x]"
      ]
     },
     "execution_count": 6,
     "metadata": {},
     "output_type": "execute_result"
    }
   ],
   "source": [
    "s.parametric_eqs(right = x^2 + 1)"
   ]
  },
  {
   "cell_type": "markdown",
   "metadata": {},
   "source": [
    "Для рассчета коэффициентов выберем функцию $x^2 + 1$"
   ]
  },
  {
   "cell_type": "code",
   "execution_count": 7,
   "metadata": {
    "vscode": {
     "languageId": "python"
    }
   },
   "outputs": [
    {
     "data": {
      "text/plain": [
       "[a0 - 1/2, a1 - 1/2]"
      ]
     },
     "execution_count": 7,
     "metadata": {},
     "output_type": "execute_result"
    }
   ],
   "source": [
    "s.coefficients(right = x^2 + 1)"
   ]
  },
  {
   "cell_type": "markdown",
   "metadata": {},
   "source": [
    "### Явная схема Рунге-Кутты 4-го порядка"
   ]
  },
  {
   "cell_type": "code",
   "execution_count": 8,
   "metadata": {
    "vscode": {
     "languageId": "python"
    }
   },
   "outputs": [],
   "source": [
    "a_param = var(['a'] +['a' + str(i) for i in range(10)])\n",
    "def rk4():\n",
    "    k1 = f(x)\n",
    "    k2 = f(x + k1*dt*a0)\n",
    "    k3 = f(x + k2*dt*a1)\n",
    "    k4 = f(x + k3*dt*a2)\n",
    "    return a3*k1 + a4*k2 + a5*k3 + a6*k4"
   ]
  },
  {
   "cell_type": "code",
   "execution_count": 9,
   "metadata": {
    "vscode": {
     "languageId": "python"
    }
   },
   "outputs": [
    {
     "data": {
      "text/plain": [
       "[x == x,\n",
       " f(x) == (a3 + a4 + a5 + a6)*f(x),\n",
       " 1/2*f(x)*diff(f(x), x) == (a0*a4 + a1*a5 + a2*a6)*f(x)*diff(f(x), x),\n",
       " 1/6*f(x)*diff(f(x), x)^2 + 1/6*f(x)^2*diff(f(x), x, x) == (a0*a1*a5 + a1*a2*a6)*f(x)*diff(f(x), x)^2 + 1/2*(a0^2*a4 + a1^2*a5 + a2^2*a6)*f(x)^2*diff(f(x), x, x),\n",
       " 1/24*f(x)*diff(f(x), x)^3 + 1/6*f(x)^2*diff(f(x), x)*diff(f(x), x, x) + 1/24*f(x)^3*diff(f(x), x, x, x) == a0*a1*a2*a6*f(x)*diff(f(x), x)^3 + 1/2*((a0^2*a1 + 2*a0*a1^2)*a5 + (a1^2*a2 + 2*a1*a2^2)*a6)*f(x)^2*diff(f(x), x)*diff(f(x), x, x) + 1/6*(a0^3*a4 + a1^3*a5 + a2^3*a6)*f(x)^3*diff(f(x), x, x, x)]"
      ]
     },
     "execution_count": 9,
     "metadata": {},
     "output_type": "execute_result"
    }
   ],
   "source": [
    "s = Scheme([x,t], [f,_], a_param, rk4(), order = 4)\n",
    "s.parametric_eqs()"
   ]
  },
  {
   "cell_type": "code",
   "execution_count": 10,
   "metadata": {
    "vscode": {
     "languageId": "python"
    }
   },
   "outputs": [
    {
     "data": {
      "text/plain": [
       "[x == x,\n",
       " x^3 - 2 == (a3 + a4 + a5 + a6)*x^3 - 2*a3 - 2*a4 - 2*a5 - 2*a6,\n",
       " 3/2*x^5 - 3*x^2 == 3*(a0*a4 + a1*a5 + a2*a6)*x^5 - 6*(a0*a4 + a1*a5 + a2*a6)*x^2,\n",
       " 5/2*x^7 - 7*x^4 + 4*x == 3*(a0^2*a4 + (3*a0*a1 + a1^2)*a5 + (3*a1*a2 + a2^2)*a6)*x^7 - 6*(2*a0^2*a4 + (3*a0*a1 + 2*a1^2)*a5 + (3*a1*a2 + 2*a2^2)*a6)*x^4 + 12*(a0^2*a4 + a1^2*a5 + a2^2*a6)*x,\n",
       " 35/8*x^9 - 63/4*x^6 + 15*x^3 - 2 == (a0^3*a4 + (9*a0^2*a1 + 18*a0*a1^2 + a1^3)*a5 + (18*a1*a2^2 + a2^3 + 9*(3*a0*a1 + a1^2)*a2)*a6)*x^9 - 6*(a0^3*a4 + (6*a0^2*a1 + 12*a0*a1^2 + a1^3)*a5 + (12*a1*a2^2 + a2^3 + 3*(3*a0*a1 + 2*a1^2)*a2)*a6)*x^6 - 8*a0^3*a4 - 8*a1^3*a5 - 8*a2^3*a6 + 12*(a0^3*a4 + (3*a0^2*a1 + 6*a0*a1^2 + a1^3)*a5 + (3*a1^2*a2 + 6*a1*a2^2 + a2^3)*a6)*x^3]"
      ]
     },
     "execution_count": 10,
     "metadata": {},
     "output_type": "execute_result"
    }
   ],
   "source": [
    "s.parametric_eqs(x^3 - 2)"
   ]
  },
  {
   "cell_type": "code",
   "execution_count": 11,
   "metadata": {
    "vscode": {
     "languageId": "python"
    }
   },
   "outputs": [
    {
     "data": {
      "text/plain": [
       "[a2^3*a6^3 + 1/4*a2^2*a4*a6^2 - 1/16*a1*a5^3 + 1/16*a2*a4*a5*a6 - 1/16*a2*a5^2*a6 - 1/2*a2^2*a6^2 + 1/6*a2*a5*a6 - 1/96*a5^2, a1*a2^2*a6^2 - 1/6*a2*a6 + 1/24*a5, a1^2*a5^2 - a1*a2*a4*a6 - a2^2*a6^2 + 1/4*a1*a5^2 - 1/4*a2*a4*a6 + 1/4*a2*a5*a6 - 1/2*a1*a5 + 1/2*a2*a6 + 1/6*a4 - 1/8*a5, a1*a2*a5*a6 + a2^2*a6^2 - 1/4*a1*a5^2 + 1/4*a2*a4*a6 - 1/4*a2*a5*a6 - 1/2*a2*a6 + 1/8*a5, a0*a1*a5 + a1*a2*a6 - 1/6, a0*a2*a6 - 1/4*a0*a5 - 1/4*a2*a6, a0*a4 + a1*a5 + a2*a6 - 1/2, a3 + a4 + a5 + a6 - 1]"
      ]
     },
     "execution_count": 11,
     "metadata": {},
     "output_type": "execute_result"
    }
   ],
   "source": [
    "s.coefficients(right = x)"
   ]
  },
  {
   "cell_type": "markdown",
   "metadata": {},
   "source": [
    "Проверим известный набор коэффициентов"
   ]
  },
  {
   "cell_type": "code",
   "execution_count": 12,
   "metadata": {
    "vscode": {
     "languageId": "python"
    }
   },
   "outputs": [
    {
     "data": {
      "text/plain": [
       "[x == x,\n",
       " f(x) == f(x),\n",
       " 1/2*f(x)*diff(f(x), x) == 1/2*f(x)*diff(f(x), x),\n",
       " 1/6*f(x)*diff(f(x), x)^2 + 1/6*f(x)^2*diff(f(x), x, x) == 1/6*f(x)*diff(f(x), x)^2 + 1/6*f(x)^2*diff(f(x), x, x),\n",
       " 1/24*f(x)*diff(f(x), x)^3 + 1/6*f(x)^2*diff(f(x), x)*diff(f(x), x, x) + 1/24*f(x)^3*diff(f(x), x, x, x) == 1/24*f(x)*diff(f(x), x)^3 + 1/6*f(x)^2*diff(f(x), x)*diff(f(x), x, x) + 1/24*f(x)^3*diff(f(x), x, x, x)]"
      ]
     },
     "execution_count": 12,
     "metadata": {},
     "output_type": "execute_result"
    }
   ],
   "source": [
    "a3 = 1/6; a4 = 1/3\n",
    "a5 = 1/3; a6 = 1/6\n",
    "a1 = 1/2; a0 = 1/2\n",
    "a2 = 1\n",
    "s = Scheme([x,t],[f,_], a_param, rk4(), order = 4)\n",
    "s.parametric_eqs()"
   ]
  },
  {
   "cell_type": "code",
   "execution_count": 13,
   "metadata": {
    "vscode": {
     "languageId": "python"
    }
   },
   "outputs": [
    {
     "data": {
      "text/plain": [
       "[0]"
      ]
     },
     "execution_count": 13,
     "metadata": {},
     "output_type": "execute_result"
    }
   ],
   "source": [
    "s.coefficients(right = x)"
   ]
  },
  {
   "cell_type": "markdown",
   "metadata": {},
   "source": [
    "### Дифференциально-параметрическая схема 4-го порядка"
   ]
  },
  {
   "cell_type": "code",
   "execution_count": 14,
   "metadata": {
    "vscode": {
     "languageId": "python"
    }
   },
   "outputs": [],
   "source": [
    "a_param = var(['a'] +['a' + str(i) for i in range(10)])\n",
    "L = function('L') # оператор\n",
    "\n",
    "F = a0*f(x)+ a1*L(f(x))*dt +\\\n",
    "    a2*f(x + a3*f(x)*dt + a4*L(f(x))*dt^2) +\\\n",
    "    a4*f(x + a5*f(x)*dt + a6*L(f(x))*dt^2 + a7*L(L(f(x)))*dt^3) "
   ]
  },
  {
   "cell_type": "code",
   "execution_count": 15,
   "metadata": {
    "vscode": {
     "languageId": "python"
    }
   },
   "outputs": [
    {
     "data": {
      "text/plain": [
       "[a3*a6*a7 - 4*a3*a7^2 - a1*a7 - 1/24*a5 + 1/2*a7, a4*a5 - a3*a6 + 4*a3*a7 + a1 - 1/2, a4*a7 - 1/24, a0 + a4 - a6 + 4*a7 - 1, a2 + a6 - 4*a7]"
      ]
     },
     "execution_count": 15,
     "metadata": {},
     "output_type": "execute_result"
    }
   ],
   "source": [
    "s = Scheme([x,t],[f,L],a_param, F, order = 4)\n",
    "s.coefficients(right = x)"
   ]
  },
  {
   "cell_type": "markdown",
   "metadata": {},
   "source": [
    "## Проверка "
   ]
  },
  {
   "cell_type": "code",
   "execution_count": 16,
   "metadata": {
    "vscode": {
     "languageId": "python"
    }
   },
   "outputs": [
    {
     "name": "stdout",
     "output_type": "stream",
     "text": [
      "Клонирование в «fdm»…\n",
      "remote: Enumerating objects: 262, done.\u001b[K\n",
      "remote: Counting objects: 100% (111/111), done.\u001b[K\n",
      "remote: Compressing objects: 100% (48/48), done.\u001b[K\n",
      "remote: Total 262 (delta 73), reused 93 (delta 62), pack-reused 151\u001b[K\n",
      "Получение объектов: 100% (262/262), 3.80 MiB | 5.12 MiB/s, готово.\n",
      "Определение изменений: 100% (149/149), готово.\n",
      "/home/kadrov_vm/Кадров/tmp/fdm\n",
      "/home/kadrov_vm/Кадров/tmp\n"
     ]
    }
   ],
   "source": [
    "!git clone https://github.com/malykhmd/fdm\n",
    "%cd fdm\n",
    "load('fdm.sage')\n",
    "%cd ..\n",
    "!rm -rf fdm/ "
   ]
  },
  {
   "cell_type": "markdown",
   "metadata": {},
   "source": [
    "$$\n",
    "\\left \\{ \\begin{aligned} &\n",
    "\\frac{d}{dt} x = y , \\quad  \\frac{d}{dt} y = -x , \\\\ &\n",
    "x (0)= 0 , \\quad y (0)= 1\n",
    "\\end{aligned} \\right.\n",
    "$$"
   ]
  },
  {
   "cell_type": "code",
   "execution_count": 17,
   "metadata": {
    "vscode": {
     "languageId": "python"
    }
   },
   "outputs": [],
   "source": [
    "var(\"x1,x2\")\n",
    "pr1 = Initial_problem([x1,x2],[x2,-x1],[0,1],10)"
   ]
  },
  {
   "cell_type": "code",
   "execution_count": 18,
   "metadata": {
    "vscode": {
     "languageId": "python"
    }
   },
   "outputs": [],
   "source": [
    "C = {\n",
    "    a0: 1/2,\n",
    "    a1: 5/24,\n",
    "    a2: 1/4,\n",
    "    a3: 2/3,\n",
    "    a4: 1/4,\n",
    "    a5: 1/2,\n",
    "    a6: 5/12,\n",
    "    a7: 1/6,\n",
    "}"
   ]
  },
  {
   "cell_type": "code",
   "execution_count": 19,
   "metadata": {
    "scrolled": true,
    "vscode": {
     "languageId": "python"
    }
   },
   "outputs": [],
   "source": [
    "sol = dps(pr1, s, C, N = 50)"
   ]
  },
  {
   "cell_type": "code",
   "execution_count": 20,
   "metadata": {
    "vscode": {
     "languageId": "python"
    }
   },
   "outputs": [
    {
     "data": {
      "image/png": "[encoded data removed]",
      "text/plain": [
       "Graphics object consisting of 1 graphics primitive"
      ]
     },
     "execution_count": 20,
     "metadata": {},
     "output_type": "execute_result"
    }
   ],
   "source": [
    "sol.plot(t,x1)"
   ]
  },
  {
   "cell_type": "code",
   "execution_count": 21,
   "metadata": {
    "vscode": {
     "languageId": "python"
    }
   },
   "outputs": [],
   "source": [
    "L = [dps(pr1, s, C, N=10*2^n) for n in range(10)]"
   ]
  },
  {
   "cell_type": "code",
   "execution_count": 22,
   "metadata": {
    "vscode": {
     "languageId": "python"
    }
   },
   "outputs": [
    {
     "data": {
      "image/png": "[encoded data removed]",
      "text/plain": [
       "Graphics object consisting of 2 graphics primitives"
      ]
     },
     "execution_count": 22,
     "metadata": {},
     "output_type": "execute_result"
    }
   ],
   "source": [
    "richardson_plot(L,x1,10)"
   ]
  }
 ],
 "metadata": {
  "kernelspec": {
   "display_name": "SageMath 10.1",
   "language": "sage",
   "name": "SageMath-10.1"
  },
  "language_info": {
   "codemirror_mode": {
    "name": "ipython",
    "version": 3
   },
   "file_extension": ".py",
   "mimetype": "text/x-python",
   "name": "sage",
   "nbconvert_exporter": "python",
   "pygments_lexer": "ipython3",
   "version": "3.9.2"
  }
 },
 "nbformat": 4,
 "nbformat_minor": 2
}
