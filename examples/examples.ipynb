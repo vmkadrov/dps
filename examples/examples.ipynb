{
 "cells": [
  {
   "cell_type": "markdown",
   "metadata": {},
   "source": [
    "# Примеры использования"
   ]
  },
  {
   "cell_type": "code",
   "execution_count": 229,
   "metadata": {},
   "outputs": [],
   "source": [
    "load(\"../src/dps.sage\")"
   ]
  },
  {
   "cell_type": "markdown",
   "metadata": {},
   "source": [
    "**Протестировано на версии Sage 9.2**"
   ]
  },
  {
   "cell_type": "code",
   "execution_count": 230,
   "metadata": {},
   "outputs": [],
   "source": [
    "import warnings\n",
    "warnings.filterwarnings('ignore')"
   ]
  },
  {
   "cell_type": "markdown",
   "metadata": {},
   "source": [
    "Необходимо задать схему в виде правой части дифференциального уравнения \n",
    "$$\n",
    "\\frac{dx}{dt} = F(\\hat{x}, x, dt)\n",
    "$$\n",
    "В качестве исходной функции нужно задать [формальную функцию](https://doc.sagemath.org/html/en/reference/calculus/sage/symbolic/function_factory.html). Обратите внимание, что:"
   ]
  },
  {
   "cell_type": "code",
   "execution_count": 231,
   "metadata": {},
   "outputs": [
    {
     "data": {
      "text/plain": [
       "False"
      ]
     },
     "execution_count": 231,
     "metadata": {},
     "output_type": "execute_result"
    }
   ],
   "source": [
    "var('x')\n",
    "function('f') == function('f')(x)"
   ]
  },
  {
   "cell_type": "markdown",
   "metadata": {},
   "source": [
    "## Коэффициенты"
   ]
  },
  {
   "cell_type": "markdown",
   "metadata": {},
   "source": [
    "### Неявная схема"
   ]
  },
  {
   "cell_type": "code",
   "execution_count": 232,
   "metadata": {},
   "outputs": [],
   "source": [
    "var('xx,x,t')\n",
    "a_param = var(['a'] +['a' + str(i) for i in range(100)])\n",
    "f = function('f', nargs = 1)\n",
    "F = a0*f(xx) + a1*f(x)"
   ]
  },
  {
   "cell_type": "code",
   "execution_count": 233,
   "metadata": {},
   "outputs": [
    {
     "name": "stdout",
     "output_type": "stream",
     "text": [
      "\\frac{dx}{dt} = a_{1} f\\left(x\\right) + a_{0} f\\left(\\mathit{xx}\\right)\n"
     ]
    }
   ],
   "source": [
    "s = Scheme([x,t],[f,_],a_param, F, order = 2, n_val = xx)\n",
    "s.latex()"
   ]
  },
  {
   "cell_type": "markdown",
   "metadata": {},
   "source": [
    "$$\\frac{dx}{dt} = a_{1} f\\left(x\\right) + a_{0} f\\left(\\mathit{xx}\\right)$$"
   ]
  },
  {
   "cell_type": "code",
   "execution_count": 234,
   "metadata": {},
   "outputs": [
    {
     "data": {
      "text/plain": [
       "[x == x,\n",
       " x^2 + 1 == (a0 + a1)*x^2 + a0 + a1,\n",
       " x^3 + x == 2*(a0^2 + a0*a1)*x^3 + 2*(a0^2 + a0*a1)*x]"
      ]
     },
     "execution_count": 234,
     "metadata": {},
     "output_type": "execute_result"
    }
   ],
   "source": [
    "s.parametric_eqs(right = x^2 + 1)"
   ]
  },
  {
   "cell_type": "markdown",
   "metadata": {},
   "source": [
    "$$\\begin{cases}\n",
    " a_{0} - \\frac{1}{2},\\\\a_{1} - \\frac{1}{2},\\\\ \n",
    "\\end{cases}\n",
    "$$"
   ]
  },
  {
   "cell_type": "markdown",
   "metadata": {},
   "source": [
    "Для рассчета коэффициентов выберем функцию $x^2 + 1$"
   ]
  },
  {
   "cell_type": "code",
   "execution_count": 235,
   "metadata": {},
   "outputs": [
    {
     "data": {
      "text/plain": [
       "[a0 - 1/2, a1 - 1/2]"
      ]
     },
     "execution_count": 235,
     "metadata": {},
     "output_type": "execute_result"
    }
   ],
   "source": [
    "s.coefficients(right = x^2 + 1)"
   ]
  },
  {
   "cell_type": "markdown",
   "metadata": {},
   "source": [
    "### Явная схема Рунге-Кутты 4-го порядка"
   ]
  },
  {
   "cell_type": "code",
   "execution_count": 236,
   "metadata": {},
   "outputs": [],
   "source": [
    "def rk4():\n",
    "    k1 = f(x)\n",
    "    k2 = f(x + k1*dt*a0)\n",
    "    k3 = f(x + k2*dt*a1)\n",
    "    k4 = f(x + k3*dt*a2)\n",
    "    return a3*k1 + a4*k2 + a5*k3 + a6*k4"
   ]
  },
  {
   "cell_type": "code",
   "execution_count": 237,
   "metadata": {},
   "outputs": [
    {
     "data": {
      "text/plain": [
       "[x == x,\n",
       " f(x) == (a3 + a4 + a5 + a6)*f(x),\n",
       " 1/2*f(x)*diff(f(x), x) == (a0*a4 + a1*a5 + a2*a6)*f(x)*diff(f(x), x),\n",
       " 1/6*f(x)*diff(f(x), x)^2 + 1/6*f(x)^2*diff(f(x), x, x) == (a0*a1*a5 + a1*a2*a6)*f(x)*diff(f(x), x)^2 + 1/2*(a0^2*a4 + a1^2*a5 + a2^2*a6)*f(x)^2*diff(f(x), x, x),\n",
       " 1/24*f(x)*diff(f(x), x)^3 + 1/6*f(x)^2*diff(f(x), x)*diff(f(x), x, x) + 1/24*f(x)^3*diff(f(x), x, x, x) == a0*a1*a2*a6*f(x)*diff(f(x), x)^3 + 1/2*((a0^2*a1 + 2*a0*a1^2)*a5 + (a1^2*a2 + 2*a1*a2^2)*a6)*f(x)^2*diff(f(x), x)*diff(f(x), x, x) + 1/6*(a0^3*a4 + a1^3*a5 + a2^3*a6)*f(x)^3*diff(f(x), x, x, x)]"
      ]
     },
     "execution_count": 237,
     "metadata": {},
     "output_type": "execute_result"
    }
   ],
   "source": [
    "s = Scheme([x,t], [f,_], a_param, rk4(), order = 4)\n",
    "s.parametric_eqs()"
   ]
  },
  {
   "cell_type": "code",
   "execution_count": 238,
   "metadata": {},
   "outputs": [
    {
     "data": {
      "text/plain": [
       "[x == x,\n",
       " x^3 - 2 == (a3 + a4 + a5 + a6)*x^3 - 2*a3 - 2*a4 - 2*a5 - 2*a6,\n",
       " 3/2*x^5 - 3*x^2 == 3*(a0*a4 + a1*a5 + a2*a6)*x^5 - 6*(a0*a4 + a1*a5 + a2*a6)*x^2,\n",
       " 5/2*x^7 - 7*x^4 + 4*x == 3*(a0^2*a4 + (3*a0*a1 + a1^2)*a5 + (3*a1*a2 + a2^2)*a6)*x^7 - 6*(2*a0^2*a4 + (3*a0*a1 + 2*a1^2)*a5 + (3*a1*a2 + 2*a2^2)*a6)*x^4 + 12*(a0^2*a4 + a1^2*a5 + a2^2*a6)*x,\n",
       " 35/8*x^9 - 63/4*x^6 + 15*x^3 - 2 == (a0^3*a4 + (9*a0^2*a1 + 18*a0*a1^2 + a1^3)*a5 + (18*a1*a2^2 + a2^3 + 9*(3*a0*a1 + a1^2)*a2)*a6)*x^9 - 6*(a0^3*a4 + (6*a0^2*a1 + 12*a0*a1^2 + a1^3)*a5 + (12*a1*a2^2 + a2^3 + 3*(3*a0*a1 + 2*a1^2)*a2)*a6)*x^6 - 8*a0^3*a4 - 8*a1^3*a5 - 8*a2^3*a6 + 12*(a0^3*a4 + (3*a0^2*a1 + 6*a0*a1^2 + a1^3)*a5 + (3*a1^2*a2 + 6*a1*a2^2 + a2^3)*a6)*x^3]"
      ]
     },
     "execution_count": 238,
     "metadata": {},
     "output_type": "execute_result"
    }
   ],
   "source": [
    "s.parametric_eqs(x^3 - 2)"
   ]
  },
  {
   "cell_type": "code",
   "execution_count": 239,
   "metadata": {},
   "outputs": [
    {
     "data": {
      "text/plain": [
       "[a2^3*a6^3 + 1/4*a2^2*a4*a6^2 - 1/16*a1*a5^3 + 1/16*a2*a4*a5*a6 - 1/16*a2*a5^2*a6 - 1/2*a2^2*a6^2 + 1/6*a2*a5*a6 - 1/96*a5^2, a1*a2^2*a6^2 - 1/6*a2*a6 + 1/24*a5, a1^2*a5^2 - a1*a2*a4*a6 - a2^2*a6^2 + 1/4*a1*a5^2 - 1/4*a2*a4*a6 + 1/4*a2*a5*a6 - 1/2*a1*a5 + 1/2*a2*a6 + 1/6*a4 - 1/8*a5, a1*a2*a5*a6 + a2^2*a6^2 - 1/4*a1*a5^2 + 1/4*a2*a4*a6 - 1/4*a2*a5*a6 - 1/2*a2*a6 + 1/8*a5, a0*a1*a5 + a1*a2*a6 - 1/6, a0*a2*a6 - 1/4*a0*a5 - 1/4*a2*a6, a0*a4 + a1*a5 + a2*a6 - 1/2, a3 + a4 + a5 + a6 - 1]"
      ]
     },
     "execution_count": 239,
     "metadata": {},
     "output_type": "execute_result"
    }
   ],
   "source": [
    "s.coefficients(right = x)"
   ]
  },
  {
   "cell_type": "code",
   "execution_count": 240,
   "metadata": {},
   "outputs": [
    {
     "name": "stdout",
     "output_type": "stream",
     "text": [
      "\\begin{cases}\n",
      " a_{2}^{3} a_{6}^{3} + \\frac{1}{4} a_{2}^{2} a_{4} a_{6}^{2} - \\frac{1}{16} a_{1} a_{5}^{3} + \\frac{1}{16} a_{2} a_{4} a_{5} a_{6} - \\frac{1}{16} a_{2} a_{5}^{2} a_{6} - \\frac{1}{2} a_{2}^{2} a_{6}^{2} + \\frac{1}{6} a_{2} a_{5} a_{6} - \\frac{1}{96} a_{5}^{2},\\\\\n",
      "a_{1} a_{2}^{2} a_{6}^{2} - \\frac{1}{6} a_{2} a_{6} + \\frac{1}{24} a_{5},\\\\\n",
      "a_{1}^{2} a_{5}^{2} - a_{1} a_{2} a_{4} a_{6} - a_{2}^{2} a_{6}^{2} + \\frac{1}{4} a_{1} a_{5}^{2} - \\frac{1}{4} a_{2} a_{4} a_{6} + \\frac{1}{4} a_{2} a_{5} a_{6} - \\frac{1}{2} a_{1} a_{5} + \\frac{1}{2} a_{2} a_{6} + \\frac{1}{6} a_{4} - \\frac{1}{8} a_{5},\\\\\n",
      "a_{1} a_{2} a_{5} a_{6} + a_{2}^{2} a_{6}^{2} - \\frac{1}{4} a_{1} a_{5}^{2} + \\frac{1}{4} a_{2} a_{4} a_{6} - \\frac{1}{4} a_{2} a_{5} a_{6} - \\frac{1}{2} a_{2} a_{6} + \\frac{1}{8} a_{5},\\\\\n",
      "a_{0} a_{1} a_{5} + a_{1} a_{2} a_{6} - \\frac{1}{6},\\\\\n",
      "a_{0} a_{2} a_{6} - \\frac{1}{4} a_{0} a_{5} - \\frac{1}{4} a_{2} a_{6},\\\\\n",
      "a_{0} a_{4} + a_{1} a_{5} + a_{2} a_{6} - \\frac{1}{2},\\\\\n",
      "a_{3} + a_{4} + a_{5} + a_{6} - 1,\\\\\n",
      " \\end{cases}\n"
     ]
    }
   ],
   "source": [
    "s.coef_latex(x)"
   ]
  },
  {
   "cell_type": "markdown",
   "metadata": {},
   "source": [
    "$$\n",
    "\\begin{cases}\n",
    " a_{2}^{3} a_{6}^{3} + \\frac{1}{4} a_{2}^{2} a_{4} a_{6}^{2} - \\frac{1}{16} a_{1} a_{5}^{3} + \\frac{1}{16} a_{2} a_{4} a_{5} a_{6} - \\frac{1}{16} a_{2} a_{5}^{2} a_{6} - \\frac{1}{2} a_{2}^{2} a_{6}^{2} + \\frac{1}{6} a_{2} a_{5} a_{6} - \\frac{1}{96} a_{5}^{2},\\\\\n",
    "a_{1} a_{2}^{2} a_{6}^{2} - \\frac{1}{6} a_{2} a_{6} + \\frac{1}{24} a_{5},\\\\\n",
    "a_{1}^{2} a_{5}^{2} - a_{1} a_{2} a_{4} a_{6} - a_{2}^{2} a_{6}^{2} + \\frac{1}{4} a_{1} a_{5}^{2} - \\frac{1}{4} a_{2} a_{4} a_{6} + \\frac{1}{4} a_{2} a_{5} a_{6} - \\frac{1}{2} a_{1} a_{5} + \\frac{1}{2} a_{2} a_{6} + \\frac{1}{6} a_{4} - \\frac{1}{8} a_{5},\\\\\n",
    "a_{1} a_{2} a_{5} a_{6} + a_{2}^{2} a_{6}^{2} - \\frac{1}{4} a_{1} a_{5}^{2} + \\frac{1}{4} a_{2} a_{4} a_{6} - \\frac{1}{4} a_{2} a_{5} a_{6} - \\frac{1}{2} a_{2} a_{6} + \\frac{1}{8} a_{5},\\\\\n",
    "a_{0} a_{1} a_{5} + a_{1} a_{2} a_{6} - \\frac{1}{6},\\\\\n",
    "a_{0} a_{2} a_{6} - \\frac{1}{4} a_{0} a_{5} - \\frac{1}{4} a_{2} a_{6},\\\\\n",
    "a_{0} a_{4} + a_{1} a_{5} + a_{2} a_{6} - \\frac{1}{2},\\\\\n",
    "a_{3} + a_{4} + a_{5} + a_{6} - 1,\\\\\n",
    " \\end{cases}\n",
    "$$"
   ]
  },
  {
   "cell_type": "markdown",
   "metadata": {},
   "source": [
    "Проверим известный набор коэффициентов"
   ]
  },
  {
   "cell_type": "code",
   "execution_count": 241,
   "metadata": {},
   "outputs": [
    {
     "data": {
      "text/plain": [
       "[x == x,\n",
       " f(x) == f(x),\n",
       " 1/2*f(x)*diff(f(x), x) == 1/2*f(x)*diff(f(x), x),\n",
       " 1/6*f(x)*diff(f(x), x)^2 + 1/6*f(x)^2*diff(f(x), x, x) == 1/6*f(x)*diff(f(x), x)^2 + 1/6*f(x)^2*diff(f(x), x, x),\n",
       " 1/24*f(x)*diff(f(x), x)^3 + 1/6*f(x)^2*diff(f(x), x)*diff(f(x), x, x) + 1/24*f(x)^3*diff(f(x), x, x, x) == 1/24*f(x)*diff(f(x), x)^3 + 1/6*f(x)^2*diff(f(x), x)*diff(f(x), x, x) + 1/24*f(x)^3*diff(f(x), x, x, x)]"
      ]
     },
     "execution_count": 241,
     "metadata": {},
     "output_type": "execute_result"
    }
   ],
   "source": [
    "C = {\n",
    "    a3: 1/6,\n",
    "    a4: 1/3,\n",
    "    a5: 1/3,\n",
    "    a6: 1/6,\n",
    "    a1: 1/2,\n",
    "    a0: 1/2,\n",
    "    a2: 1\n",
    "}\n",
    "s = Scheme([x,t],[f,_], a_param, rk4().subs(C), order = 4)\n",
    "s.parametric_eqs()"
   ]
  },
  {
   "cell_type": "code",
   "execution_count": 242,
   "metadata": {},
   "outputs": [
    {
     "data": {
      "text/plain": [
       "[0]"
      ]
     },
     "execution_count": 242,
     "metadata": {},
     "output_type": "execute_result"
    }
   ],
   "source": [
    "s.coefficients(right = x)"
   ]
  },
  {
   "cell_type": "markdown",
   "metadata": {},
   "source": [
    "### Дифференциально-параметрическая схема 3-го порядкаx"
   ]
  },
  {
   "cell_type": "code",
   "execution_count": 243,
   "metadata": {},
   "outputs": [
    {
     "name": "stdout",
     "output_type": "stream",
     "text": [
      "Клонирование в «fdm»…\n",
      "remote: Enumerating objects: 262, done.\u001b[K\n",
      "remote: Counting objects: 100% (111/111), done.\u001b[K\n",
      "remote: Compressing objects: 100% (48/48), done.\u001b[K\n",
      "remote: Total 262 (delta 73), reused 93 (delta 62), pack-reused 151\u001b[K\n",
      "Получение объектов: 100% (262/262), 3.80 MiB | 5.64 MiB/s, готово.\n",
      "Определение изменений: 100% (149/149), готово.\n",
      "/home/kadrov_vm/dps/examples/fdm\n",
      "/home/kadrov_vm/dps/examples\n"
     ]
    }
   ],
   "source": [
    "!git clone https://github.com/malykhmd/fdm\n",
    "%cd fdm\n",
    "load('fdm.sage')\n",
    "%cd ..\n",
    "!rm -rf fdm/ "
   ]
  },
  {
   "cell_type": "markdown",
   "metadata": {},
   "source": [
    "$$\n",
    "\\left \\{ \\begin{aligned} &\n",
    "\\frac{d}{dt} x = y , \\quad  \\frac{d}{dt} y = -x , \\\\ &\n",
    "x (0)= 0 , \\quad y (0)= 1\n",
    "\\end{aligned} \\right.\n",
    "$$"
   ]
  },
  {
   "cell_type": "code",
   "execution_count": 244,
   "metadata": {},
   "outputs": [],
   "source": [
    "var(\"x1,x2\")\n",
    "pr1 = Initial_problem([x1,x2],[x2,-x1],[0,1],10)"
   ]
  },
  {
   "cell_type": "code",
   "execution_count": 245,
   "metadata": {},
   "outputs": [],
   "source": [
    "L = function('L') # оператор\n",
    "dp3 = F = a0*f(x)+ a1*L(f(x))*dt + a2*f(x + a3*f(x)*dt + a4*L(f(x))*dt^2)"
   ]
  },
  {
   "cell_type": "code",
   "execution_count": 246,
   "metadata": {},
   "outputs": [
    {
     "data": {
      "text/plain": [
       "[x == x,\n",
       " f(x) == (a0 + a2)*f(x),\n",
       " 1/2*f(x)*diff(f(x), x) == (a2*a3 + a1)*f(x)*diff(f(x), x),\n",
       " 1/6*f(x)*diff(f(x), x)^2 + 1/6*f(x)^2*diff(f(x), x, x) == 1/2*a2*a3^2*f(x)^2*diff(f(x), x, x) + a2*a4*f(x)*diff(f(x), x)^2]"
      ]
     },
     "execution_count": 246,
     "metadata": {},
     "output_type": "execute_result"
    }
   ],
   "source": [
    "s = Scheme([x,t],[f,L],a_param, dp3, order = 3)\n",
    "s.parametric_eqs()"
   ]
  },
  {
   "cell_type": "markdown",
   "metadata": {},
   "source": [
    "Тогда:"
   ]
  },
  {
   "cell_type": "code",
   "execution_count": 247,
   "metadata": {},
   "outputs": [],
   "source": [
    "C1 = {\n",
    "    a0: 6/9,\n",
    "    a1: 1/6,\n",
    "    a2: 3/9,\n",
    "    a3: 1,\n",
    "    a4: 1/2\n",
    "}\n",
    "C2 = {\n",
    "    a0: 1/4,\n",
    "    a1: 0,\n",
    "    a2: 3/4,\n",
    "    a3: 2/3,\n",
    "    a4: 2/9\n",
    "}"
   ]
  },
  {
   "cell_type": "code",
   "execution_count": 248,
   "metadata": {},
   "outputs": [
    {
     "data": {
      "text/plain": [
       "[x == x,\n",
       " f(x) == f(x),\n",
       " 1/2*f(x)*diff(f(x), x) == 1/2*f(x)*diff(f(x), x),\n",
       " 1/6*f(x)*diff(f(x), x)^2 + 1/6*f(x)^2*diff(f(x), x, x) == 1/6*f(x)*diff(f(x), x)^2 + 1/6*f(x)^2*diff(f(x), x, x)]"
      ]
     },
     "execution_count": 248,
     "metadata": {},
     "output_type": "execute_result"
    }
   ],
   "source": [
    "s_subs_1 = Scheme([x,t],[f,L],a_param, dp3.subs(C1), order = 3)\n",
    "s_subs_1.parametric_eqs()"
   ]
  },
  {
   "cell_type": "code",
   "execution_count": 249,
   "metadata": {},
   "outputs": [
    {
     "data": {
      "text/plain": [
       "[0]"
      ]
     },
     "execution_count": 249,
     "metadata": {},
     "output_type": "execute_result"
    }
   ],
   "source": [
    "s_subs = Scheme([x,t],[f,L],a_param, dp3.subs(C2), order = 3)\n",
    "s_subs.coefficients(-x)"
   ]
  },
  {
   "cell_type": "code",
   "execution_count": 250,
   "metadata": {},
   "outputs": [
    {
     "data": {
      "image/png": "[encoded data removed]",
      "text/plain": [
       "Graphics object consisting of 2 graphics primitives"
      ]
     },
     "execution_count": 250,
     "metadata": {},
     "output_type": "execute_result"
    }
   ],
   "source": [
    "pic = richardson_plot([dps(pr1, s, C1, N=10*2^n) for n in range(10)],x1,10, nmin=5, nmax=7); pic"
   ]
  },
  {
   "cell_type": "markdown",
   "metadata": {},
   "source": [
    "### Дифференциально-параметрическая схема 4-го порядка"
   ]
  },
  {
   "cell_type": "code",
   "execution_count": 251,
   "metadata": {},
   "outputs": [],
   "source": [
    "F = a0*f(x)+ a1*L(f(x))*dt +\\\n",
    "    a2*f(x + a3*f(x)*dt + a4*L(f(x))*dt^2) +\\\n",
    "    a4*f(x + a5*f(x)*dt + a6*L(f(x))*dt^2 + a7*L(L(f(x)))*dt^3) "
   ]
  },
  {
   "cell_type": "code",
   "execution_count": 252,
   "metadata": {},
   "outputs": [
    {
     "data": {
      "text/plain": [
       "[a3*a6*a7 - 4*a3*a7^2 - a1*a7 - 1/24*a5 + 1/2*a7, a4*a5 - a3*a6 + 4*a3*a7 + a1 - 1/2, a4*a7 - 1/24, a0 + a4 - a6 + 4*a7 - 1, a2 + a6 - 4*a7]"
      ]
     },
     "execution_count": 252,
     "metadata": {},
     "output_type": "execute_result"
    }
   ],
   "source": [
    "s = Scheme([x,t],[f,L],a_param, F, order = 4)\n",
    "s.coefficients(right = x)"
   ]
  },
  {
   "cell_type": "code",
   "execution_count": 253,
   "metadata": {},
   "outputs": [],
   "source": [
    "C = {\n",
    "    a0: 1/2,\n",
    "    a1: 5/24,\n",
    "    a2: 1/4,\n",
    "    a3: 2/3,\n",
    "    a4: 1/4,\n",
    "    a5: 1/2,\n",
    "    a6: 5/12,\n",
    "    a7: 1/6,\n",
    "}"
   ]
  },
  {
   "cell_type": "code",
   "execution_count": 254,
   "metadata": {
    "scrolled": true
   },
   "outputs": [],
   "source": [
    "sol = dps(pr1, s, C, N = 50)"
   ]
  },
  {
   "cell_type": "code",
   "execution_count": 255,
   "metadata": {},
   "outputs": [
    {
     "data": {
      "image/png": "[encoded data removed]",
      "text/plain": [
       "Graphics object consisting of 1 graphics primitive"
      ]
     },
     "execution_count": 255,
     "metadata": {},
     "output_type": "execute_result"
    }
   ],
   "source": [
    "sol.plot(t,x1)"
   ]
  },
  {
   "cell_type": "code",
   "execution_count": 256,
   "metadata": {},
   "outputs": [
    {
     "data": {
      "image/png": "[encoded data removed]",
      "text/plain": [
       "Graphics object consisting of 2 graphics primitives"
      ]
     },
     "execution_count": 256,
     "metadata": {},
     "output_type": "execute_result"
    }
   ],
   "source": [
    "richardson_plot([dps(pr1, s, C, N=10*2^n) for n in range(10)],x1,10)"
   ]
  },
  {
   "cell_type": "markdown",
   "metadata": {},
   "source": [
    "### Схема Шанкса"
   ]
  },
  {
   "cell_type": "code",
   "execution_count": 257,
   "metadata": {},
   "outputs": [],
   "source": [
    "TS = Butcher_tableau(7,[[[0,0,0,0,0,0,0],\\\n",
    "                         [1/192,0,0,0,0,0,0],\\\n",
    "                         [-15/6,16/6,0,0,0,0,0],\\\n",
    "                         [4867/186, -5072/186, 298/186, 0, 0, 0,0],\\\n",
    "                         [-19995/31, 20896/31, -1025/31, 155/31, 0, 0, 0],\\\n",
    "                         [-469805/5022, 490960/5022, -22736/5022, 5580/5022, 186/5022, 0, 0],\\\n",
    "                         [914314/2604, -955136/2604, 47983/2604, - 6510/2604, -558/2604, 2511/2604, 0]],\\\n",
    "                        [14/300, 0, 81/300, 110/300, 0, 81/300, 14/300]],'7-7','Shanks')"
   ]
  },
  {
   "cell_type": "code",
   "execution_count": 258,
   "metadata": {},
   "outputs": [
    {
     "data": {
      "image/png": "[encoded data removed]",
      "text/plain": [
       "Graphics object consisting of 2 graphics primitives"
      ]
     },
     "execution_count": 258,
     "metadata": {},
     "output_type": "execute_result"
    }
   ],
   "source": [
    "sh = richardson_plot([erk(pr1,N=10*2^n, tableau = TS) for n in range(10)],x1,10,nmin=5, nmax=7); sh"
   ]
  },
  {
   "cell_type": "markdown",
   "metadata": {},
   "source": [
    "### Схемы большого порядка(??)"
   ]
  },
  {
   "cell_type": "code",
   "execution_count": 259,
   "metadata": {},
   "outputs": [
    {
     "data": {
      "text/plain": [
       "[0]"
      ]
     },
     "execution_count": 259,
     "metadata": {},
     "output_type": "execute_result"
    }
   ],
   "source": [
    "C = {\n",
    "    a0: 1/6,\n",
    "    a2: 1/6,\n",
    "    a5: 1/6,\n",
    "    a9: 1/6,\n",
    "    a14: 1/6,\n",
    "    a19: 1/6,\n",
    "    a22: 1/840,\n",
    "    a18: 1/120,\n",
    "    a13: 1/20,\n",
    "    a8: 1/16,\n",
    "    a12: 1/16,\n",
    "    a17: 1/16,\n",
    "    a21: 1/16,\n",
    "    a4: 10/16,\n",
    "    a7: 2/16,\n",
    "    a11: 2/16,\n",
    "    a16: 1/16,\n",
    "    a1: 1/2,\n",
    "    a3: 1,\n",
    "    a6: 1,\n",
    "    a10: 1,\n",
    "    a15: -2,\n",
    "    a20: -1\n",
    "}\n",
    "F = a0*f(x)+ a1*L(f(x))*dt +\\\n",
    "    a2*f(x + a3*f(x)*dt + a4*L(f(x))*dt^2) +\\\n",
    "    a5*f(x + a6*f(x)*dt + a7*L(f(x))*dt^2 + a8*L(L(f(x)))*dt^3) +\\\n",
    "    a9*f(x + a10*f(x)*dt + a11*L(f(x))*dt^2 + a12*L(L(f(x)))*dt^3 + a13*L(L(L(f(x))))*dt^4) +\\\n",
    "    a14*f(x + a15*f(x)*dt + a16*L(f(x))*dt^2 + a17*L(L(f(x)))*dt^3 + a18*L(L(L(L(f(x)))))*dt^5) +\\\n",
    "    a19*f(x + a20*f(x)*dt + a21*L(f(x))*dt^2 + a21*L(L(f(x)))*dt^3 + a22*L(L(L(L(L(f(x))))))*dt^6)\n",
    "s = Scheme([x,t],[f,L],a_param, F.subs(C), order = 7)\n",
    "s.coefficients(right = x)"
   ]
  },
  {
   "cell_type": "code",
   "execution_count": 260,
   "metadata": {},
   "outputs": [
    {
     "data": {
      "image/png": "[encoded data removed]",
      "text/plain": [
       "Graphics object consisting of 2 graphics primitives"
      ]
     },
     "execution_count": 260,
     "metadata": {},
     "output_type": "execute_result"
    }
   ],
   "source": [
    "richardson_plot([dps(pr1, s, C, N=10*2^n) for n in range(10)], x1, 10, nmin=3, nmax=5)"
   ]
  }
 ],
 "metadata": {
  "kernelspec": {
   "display_name": "SageMath 9.2",
   "language": "sage",
   "name": "sagemath"
  },
  "language_info": {
   "codemirror_mode": {
    "name": "ipython",
    "version": 3
   },
   "file_extension": ".py",
   "mimetype": "text/x-python",
   "name": "python",
   "nbconvert_exporter": "python",
   "pygments_lexer": "ipython3",
   "version": "3.9.2"
  }
 },
 "nbformat": 4,
 "nbformat_minor": 2
}
