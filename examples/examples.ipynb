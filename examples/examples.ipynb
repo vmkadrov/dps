{
 "cells": [
  {
   "cell_type": "markdown",
   "metadata": {},
   "source": [
    "# Примеры использования"
   ]
  },
  {
   "cell_type": "code",
   "execution_count": 238,
   "metadata": {},
   "outputs": [],
   "source": [
    "load(\"../src/dps.sage\")"
   ]
  },
  {
   "cell_type": "markdown",
   "metadata": {},
   "source": [
    "Необходимо задать схему в виде правой части дифференциального уравнения \n",
    "$$\n",
    "\\frac{dx}{dt} = F(\\hat{x}, x, dt)\n",
    "$$\n",
    "В качестве исходной функции нужно задать [формальную функцию](https://doc.sagemath.org/html/en/reference/calculus/sage/symbolic/function_factory.html). Обратите внимание, что:"
   ]
  },
  {
   "cell_type": "code",
   "execution_count": 239,
   "metadata": {},
   "outputs": [
    {
     "data": {
      "text/plain": [
       "False"
      ]
     },
     "execution_count": 239,
     "metadata": {},
     "output_type": "execute_result"
    }
   ],
   "source": [
    "var('x')\n",
    "function('f') == function('f')(x)"
   ]
  },
  {
   "cell_type": "markdown",
   "metadata": {},
   "source": [
    "## Коэффициенты"
   ]
  },
  {
   "cell_type": "markdown",
   "metadata": {},
   "source": [
    "### Неявная схема"
   ]
  },
  {
   "cell_type": "code",
   "execution_count": 240,
   "metadata": {},
   "outputs": [],
   "source": [
    "var('xx,x,t')\n",
    "a_param = var(['a'] +['a' + str(i) for i in range(100)] + ['b'] + ['b' + str(i) for i in range(10)])\n",
    "f = function('f', nargs = 1)\n",
    "F = a0*f(xx) + a1*f(x)"
   ]
  },
  {
   "cell_type": "code",
   "execution_count": 241,
   "metadata": {},
   "outputs": [
    {
     "name": "stdout",
     "output_type": "stream",
     "text": [
      "\\frac{dx}{dt} = a_{1} f\\left(x\\right) + a_{0} f\\left(\\mathit{xx}\\right)\n"
     ]
    }
   ],
   "source": [
    "s = Scheme([x,t],[f,None],a_param, F, order = 2, n_val = xx)\n",
    "s.latex()"
   ]
  },
  {
   "cell_type": "markdown",
   "metadata": {},
   "source": [
    "$$\\frac{dx}{dt} = a_{1} f\\left(x\\right) + a_{0} f\\left(\\mathit{xx}\\right)$$"
   ]
  },
  {
   "cell_type": "code",
   "execution_count": 242,
   "metadata": {},
   "outputs": [
    {
     "data": {
      "text/plain": [
       "[x == x,\n",
       " x^2 + 1 == (a0 + a1)*x^2 + a0 + a1,\n",
       " x^3 + x == 2*(a0^2 + a0*a1)*x^3 + 2*(a0^2 + a0*a1)*x]"
      ]
     },
     "execution_count": 242,
     "metadata": {},
     "output_type": "execute_result"
    }
   ],
   "source": [
    "s.parametric_eqs(right = x^2 + 1)"
   ]
  },
  {
   "cell_type": "markdown",
   "metadata": {},
   "source": [
    "$$\\begin{cases}\n",
    " a_{0} - \\frac{1}{2},\\\\a_{1} - \\frac{1}{2},\\\\ \n",
    "\\end{cases}\n",
    "$$"
   ]
  },
  {
   "cell_type": "markdown",
   "metadata": {},
   "source": [
    "Для рассчета коэффициентов выберем функцию $x^2 + 1$"
   ]
  },
  {
   "cell_type": "code",
   "execution_count": 243,
   "metadata": {},
   "outputs": [
    {
     "data": {
      "text/plain": [
       "[a0 - 1/2, a1 - 1/2]"
      ]
     },
     "execution_count": 243,
     "metadata": {},
     "output_type": "execute_result"
    }
   ],
   "source": [
    "s.coefficients(right = x^2 + 1)"
   ]
  },
  {
   "cell_type": "markdown",
   "metadata": {},
   "source": [
    "### Явная схема Рунге-Кутты 4-го порядка"
   ]
  },
  {
   "cell_type": "code",
   "execution_count": 244,
   "metadata": {},
   "outputs": [],
   "source": [
    "def rk4():\n",
    "    k1 = f(x)\n",
    "    k2 = f(x + k1*dt*a21)\n",
    "    k3 = f(x + k1*dt*a31 + k2*dt*a32)\n",
    "    k4 = f(x + k1*dt*a41 + k2*dt*a42 + k3*dt*a43)\n",
    "    return b1*k1 + b2*k2 + b3*k3 + b4*k4"
   ]
  },
  {
   "cell_type": "code",
   "execution_count": 245,
   "metadata": {},
   "outputs": [
    {
     "data": {
      "text/plain": [
       "[x == x,\n",
       " f(x) == (b1 + b2 + b3 + b4)*f(x),\n",
       " 1/2*f(x)*diff(f(x), x) == (a21*b2 + (a31 + a32)*b3 + (a41 + a42 + a43)*b4)*f(x)*diff(f(x), x),\n",
       " 1/6*f(x)*diff(f(x), x)^2 + 1/6*f(x)^2*diff(f(x), x, x) == (a21*a32*b3 + (a21*a42 + (a31 + a32)*a43)*b4)*f(x)*diff(f(x), x)^2 + 1/2*(a21^2*b2 + (a31^2 + 2*a31*a32 + a32^2)*b3 + (a41^2 + 2*a41*a42 + a42^2 + 2*(a41 + a42)*a43 + a43^2)*b4)*f(x)^2*diff(f(x), x, x),\n",
       " 1/24*f(x)*diff(f(x), x)^3 + 1/6*f(x)^2*diff(f(x), x)*diff(f(x), x, x) + 1/24*f(x)^3*diff(f(x), x, x, x) == a21*a32*a43*b4*f(x)*diff(f(x), x)^3 + 1/2*((2*a21*a32^2 + (a21^2 + 2*a21*a31)*a32)*b3 + (2*a21*a42^2 + 2*(a31 + a32)*a43^2 + (a21^2 + 2*a21*a41)*a42 + (a31^2 + 2*a31*a32 + a32^2 + 2*(a31 + a32)*a41 + 2*(a21 + a31 + a32)*a42)*a43)*b4)*f(x)^2*diff(f(x), x)*diff(f(x), x, x) + 1/6*(a21^3*b2 + (a31^3 + 3*a31^2*a32 + 3*a31*a32^2 + a32^3)*b3 + (a41^3 + 3*a41^2*a42 + 3*a41*a42^2 + a42^3 + 3*(a41 + a42)*a43^2 + a43^3 + 3*(a41^2 + 2*a41*a42 + a42^2)*a43)*b4)*f(x)^3*diff(f(x), x, x, x)]"
      ]
     },
     "execution_count": 245,
     "metadata": {},
     "output_type": "execute_result"
    }
   ],
   "source": [
    "s = Scheme([x,t], [f,None], a_param, rk4(), order = 4)\n",
    "s.parametric_eqs()"
   ]
  },
  {
   "cell_type": "code",
   "execution_count": 246,
   "metadata": {},
   "outputs": [
    {
     "data": {
      "text/plain": [
       "[x == x,\n",
       " x^3 - 2 == (b1 + b2 + b3 + b4)*x^3 - 2*b1 - 2*b2 - 2*b3 - 2*b4,\n",
       " 3/2*x^5 - 3*x^2 == 3*(a21*b2 + (a31 + a32)*b3 + (a41 + a42 + a43)*b4)*x^5 - 6*(a21*b2 + (a31 + a32)*b3 + (a41 + a42 + a43)*b4)*x^2,\n",
       " 5/2*x^7 - 7*x^4 + 4*x == 3*(a21^2*b2 + (a31^2 + (3*a21 + 2*a31)*a32 + a32^2)*b3 + (a41^2 + (3*a21 + 2*a41)*a42 + a42^2 + (3*a31 + 3*a32 + 2*a41 + 2*a42)*a43 + a43^2)*b4)*x^7 - 6*(2*a21^2*b2 + (2*a31^2 + (3*a21 + 4*a31)*a32 + 2*a32^2)*b3 + (2*a41^2 + (3*a21 + 4*a41)*a42 + 2*a42^2 + (3*a31 + 3*a32 + 4*a41 + 4*a42)*a43 + 2*a43^2)*b4)*x^4 + 12*(a21^2*b2 + (a31^2 + 2*a31*a32 + a32^2)*b3 + (a41^2 + 2*a41*a42 + a42^2 + 2*(a41 + a42)*a43 + a43^2)*b4)*x,\n",
       " 35/8*x^9 - 63/4*x^6 + 15*x^3 - 2 == (a21^3*b2 + (a31^3 + 3*(6*a21 + a31)*a32^2 + a32^3 + 3*(3*a21^2 + 6*a21*a31 + a31^2)*a32)*b3 + (a41^3 + 3*(6*a21 + a41)*a42^2 + a42^3 + 3*(6*a31 + 6*a32 + a41 + a42)*a43^2 + a43^3 + 3*(3*a21^2 + 6*a21*a41 + a41^2)*a42 + 3*(3*a31^2 + 3*(3*a21 + 2*a31)*a32 + 3*a32^2 + 6*(a31 + a32)*a41 + a41^2 + 2*(3*a21 + 3*a31 + 3*a32 + a41)*a42 + a42^2)*a43)*b4)*x^9 - 6*(a21^3*b2 + (a31^3 + 3*(4*a21 + a31)*a32^2 + a32^3 + 3*(2*a21^2 + 4*a21*a31 + a31^2)*a32)*b3 + (a41^3 + 3*(4*a21 + a41)*a42^2 + a42^3 + 3*(4*a31 + 4*a32 + a41 + a42)*a43^2 + a43^3 + 3*(2*a21^2 + 4*a21*a41 + a41^2)*a42 + 3*(2*a31^2 + (3*a21 + 4*a31)*a32 + 2*a32^2 + 4*(a31 + a32)*a41 + a41^2 + 2*(2*a21 + 2*a31 + 2*a32 + a41)*a42 + a42^2)*a43)*b4)*x^6 - 8*a21^3*b2 + 12*(a21^3*b2 + (a31^3 + 3*(2*a21 + a31)*a32^2 + a32^3 + 3*(a21^2 + 2*a21*a31 + a31^2)*a32)*b3 + (a41^3 + 3*(2*a21 + a41)*a42^2 + a42^3 + 3*(2*a31 + 2*a32 + a41 + a42)*a43^2 + a43^3 + 3*(a21^2 + 2*a21*a41 + a41^2)*a42 + 3*(a31^2 + 2*a31*a32 + a32^2 + 2*(a31 + a32)*a41 + a41^2 + 2*(a21 + a31 + a32 + a41)*a42 + a42^2)*a43)*b4)*x^3 - 8*(a31^3 + 3*a31^2*a32 + 3*a31*a32^2 + a32^3)*b3 - 8*(a41^3 + 3*a41^2*a42 + 3*a41*a42^2 + a42^3 + 3*(a41 + a42)*a43^2 + a43^3 + 3*(a41^2 + 2*a41*a42 + a42^2)*a43)*b4]"
      ]
     },
     "execution_count": 246,
     "metadata": {},
     "output_type": "execute_result"
    }
   ],
   "source": [
    "s.parametric_eqs(x^3 - 2)"
   ]
  },
  {
   "cell_type": "code",
   "execution_count": 247,
   "metadata": {},
   "outputs": [
    {
     "data": {
      "text/plain": [
       "[a21*a32*a43*b4 - 1/24, a21*a32*b3 + a21*a42*b4 + a31*a43*b4 + a32*a43*b4 - 1/6, a21*a42*a43*b4^2 + a31*a43^2*b4^2 + a32*a43^2*b4^2 - 1/6*a43*b4 + 1/24*b3, a21*b2 + a31*b3 + a32*b3 + a41*b4 + a42*b4 + a43*b4 - 1/2, a31*a32*a43^2*b4^2 + a32^2*a43^2*b4^2 - 1/6*a32*a43*b4 + 1/24*a32*b3 + 1/24*a42*b4, a31*a32*a43*b3*b4 + a32^2*a43*b3*b4 + a32*a41*a43*b4^2 + a32*a42*a43*b4^2 + a32*a43^2*b4^2 - 1/2*a32*a43*b4 + 1/24*b2, a31*a32*b3^2 + a31*a42*b3*b4 - a31*a43*b2*b4 + a32^2*b3^2 + a32*a41*b3*b4 + 2*a32*a42*b3*b4 - a32*a43*b2*b4 + a32*a43*b3*b4 - 1/2*a32*b3 + a41*a42*b4^2 + a42^2*b4^2 + a42*a43*b4^2 - 1/2*a42*b4 + 1/6*b2, a31*a42*a43*b3*b4^2 - a31*a43^2*b2*b4^2 + a32*a42*a43*b3*b4^2 - a32*a43^2*b2*b4^2 + a41*a42*a43*b4^3 + a42^2*a43*b4^3 + a42*a43^2*b4^3 - 1/2*a42*a43*b4^2 + 1/6*a43*b2*b4 - 1/24*b2*b3, a32*a41*a43^2*b4^3 + a32*a42*a43^2*b4^3 + a32*a43^3*b4^3 - 1/2*a32*a43^2*b4^2 + 1/6*a32*a43*b3*b4 - 1/24*a32*b3^2 - 1/24*a42*b3*b4 + 1/24*a43*b2*b4, b1 + b2 + b3 + b4 - 1]"
      ]
     },
     "execution_count": 247,
     "metadata": {},
     "output_type": "execute_result"
    }
   ],
   "source": [
    "s.coefficients(right = x)"
   ]
  },
  {
   "cell_type": "code",
   "execution_count": 248,
   "metadata": {},
   "outputs": [
    {
     "name": "stdout",
     "output_type": "stream",
     "text": [
      "\\begin{cases}\n",
      " a_{21} a_{32} a_{43} b_{4} - \\frac{1}{24},\\\\\n",
      "a_{21} a_{32} b_{3} + a_{21} a_{42} b_{4} + a_{31} a_{43} b_{4} + a_{32} a_{43} b_{4} - \\frac{1}{6},\\\\\n",
      "a_{21} a_{42} a_{43} b_{4}^{2} + a_{31} a_{43}^{2} b_{4}^{2} + a_{32} a_{43}^{2} b_{4}^{2} - \\frac{1}{6} a_{43} b_{4} + \\frac{1}{24} b_{3},\\\\\n",
      "a_{21} b_{2} + a_{31} b_{3} + a_{32} b_{3} + a_{41} b_{4} + a_{42} b_{4} + a_{43} b_{4} - \\frac{1}{2},\\\\\n",
      "a_{31} a_{32} a_{43}^{2} b_{4}^{2} + a_{32}^{2} a_{43}^{2} b_{4}^{2} - \\frac{1}{6} a_{32} a_{43} b_{4} + \\frac{1}{24} a_{32} b_{3} + \\frac{1}{24} a_{42} b_{4},\\\\\n",
      "a_{31} a_{32} a_{43} b_{3} b_{4} + a_{32}^{2} a_{43} b_{3} b_{4} + a_{32} a_{41} a_{43} b_{4}^{2} + a_{32} a_{42} a_{43} b_{4}^{2} + a_{32} a_{43}^{2} b_{4}^{2} - \\frac{1}{2} a_{32} a_{43} b_{4} + \\frac{1}{24} b_{2},\\\\\n",
      "a_{31} a_{32} b_{3}^{2} + a_{31} a_{42} b_{3} b_{4} - a_{31} a_{43} b_{2} b_{4} + a_{32}^{2} b_{3}^{2} + a_{32} a_{41} b_{3} b_{4} + 2 a_{32} a_{42} b_{3} b_{4} - a_{32} a_{43} b_{2} b_{4} + a_{32} a_{43} b_{3} b_{4} - \\frac{1}{2} a_{32} b_{3} + a_{41} a_{42} b_{4}^{2} + a_{42}^{2} b_{4}^{2} + a_{42} a_{43} b_{4}^{2} - \\frac{1}{2} a_{42} b_{4} + \\frac{1}{6} b_{2},\\\\\n",
      "a_{31} a_{42} a_{43} b_{3} b_{4}^{2} - a_{31} a_{43}^{2} b_{2} b_{4}^{2} + a_{32} a_{42} a_{43} b_{3} b_{4}^{2} - a_{32} a_{43}^{2} b_{2} b_{4}^{2} + a_{41} a_{42} a_{43} b_{4}^{3} + a_{42}^{2} a_{43} b_{4}^{3} + a_{42} a_{43}^{2} b_{4}^{3} - \\frac{1}{2} a_{42} a_{43} b_{4}^{2} + \\frac{1}{6} a_{43} b_{2} b_{4} - \\frac{1}{24} b_{2} b_{3},\\\\\n",
      "a_{32} a_{41} a_{43}^{2} b_{4}^{3} + a_{32} a_{42} a_{43}^{2} b_{4}^{3} + a_{32} a_{43}^{3} b_{4}^{3} - \\frac{1}{2} a_{32} a_{43}^{2} b_{4}^{2} + \\frac{1}{6} a_{32} a_{43} b_{3} b_{4} - \\frac{1}{24} a_{32} b_{3}^{2} - \\frac{1}{24} a_{42} b_{3} b_{4} + \\frac{1}{24} a_{43} b_{2} b_{4},\\\\\n",
      "b_{1} + b_{2} + b_{3} + b_{4} - 1,\\\\\n",
      " \\end{cases}\n"
     ]
    }
   ],
   "source": [
    "s.coef_latex(x)"
   ]
  },
  {
   "cell_type": "markdown",
   "metadata": {},
   "source": [
    "$$\n",
    "\\begin{cases}\n",
    " a_{21} a_{32} a_{43} b_{4} - \\frac{1}{24},\\\\\n",
    "a_{21} a_{32} b_{3} + a_{21} a_{42} b_{4} + a_{31} a_{43} b_{4} + a_{32} a_{43} b_{4} - \\frac{1}{6},\\\\\n",
    "a_{21} a_{42} a_{43} b_{4}^{2} + a_{31} a_{43}^{2} b_{4}^{2} + a_{32} a_{43}^{2} b_{4}^{2} - \\frac{1}{6} a_{43} b_{4} + \\frac{1}{24} b_{3},\\\\\n",
    "a_{21} b_{2} + a_{31} b_{3} + a_{32} b_{3} + a_{41} b_{4} + a_{42} b_{4} + a_{43} b_{4} - \\frac{1}{2},\\\\\n",
    "a_{31} a_{32} a_{43}^{2} b_{4}^{2} + a_{32}^{2} a_{43}^{2} b_{4}^{2} - \\frac{1}{6} a_{32} a_{43} b_{4} + \\frac{1}{24} a_{32} b_{3} + \\frac{1}{24} a_{42} b_{4},\\\\\n",
    "a_{31} a_{32} a_{43} b_{3} b_{4} + a_{32}^{2} a_{43} b_{3} b_{4} + a_{32} a_{41} a_{43} b_{4}^{2} + a_{32} a_{42} a_{43} b_{4}^{2} + a_{32} a_{43}^{2} b_{4}^{2} - \\frac{1}{2} a_{32} a_{43} b_{4} + \\frac{1}{24} b_{2},\\\\\n",
    "a_{31} a_{32} b_{3}^{2} + a_{31} a_{42} b_{3} b_{4} - a_{31} a_{43} b_{2} b_{4} + a_{32}^{2} b_{3}^{2} + a_{32} a_{41} b_{3} b_{4} + 2 a_{32} a_{42} b_{3} b_{4} - a_{32} a_{43} b_{2} b_{4} + a_{32} a_{43} b_{3} b_{4} - \\frac{1}{2} a_{32} b_{3} + a_{41} a_{42} b_{4}^{2} + a_{42}^{2} b_{4}^{2} + a_{42} a_{43} b_{4}^{2} - \\frac{1}{2} a_{42} b_{4} + \\frac{1}{6} b_{2},\\\\\n",
    "a_{31} a_{42} a_{43} b_{3} b_{4}^{2} - a_{31} a_{43}^{2} b_{2} b_{4}^{2} + a_{32} a_{42} a_{43} b_{3} b_{4}^{2} - a_{32} a_{43}^{2} b_{2} b_{4}^{2} + a_{41} a_{42} a_{43} b_{4}^{3} + a_{42}^{2} a_{43} b_{4}^{3} + a_{42} a_{43}^{2} b_{4}^{3} - \\frac{1}{2} a_{42} a_{43} b_{4}^{2} + \\frac{1}{6} a_{43} b_{2} b_{4} - \\frac{1}{24} b_{2} b_{3},\\\\\n",
    "a_{32} a_{41} a_{43}^{2} b_{4}^{3} + a_{32} a_{42} a_{43}^{2} b_{4}^{3} + a_{32} a_{43}^{3} b_{4}^{3} - \\frac{1}{2} a_{32} a_{43}^{2} b_{4}^{2} + \\frac{1}{6} a_{32} a_{43} b_{3} b_{4} - \\frac{1}{24} a_{32} b_{3}^{2} - \\frac{1}{24} a_{42} b_{3} b_{4} + \\frac{1}{24} a_{43} b_{2} b_{4},\\\\\n",
    "b_{1} + b_{2} + b_{3} + b_{4} - 1,\\\\\n",
    " \\end{cases}\n",
    "$$"
   ]
  },
  {
   "cell_type": "markdown",
   "metadata": {},
   "source": [
    "Проверим известный набор коэффициентов"
   ]
  },
  {
   "cell_type": "code",
   "execution_count": 249,
   "metadata": {},
   "outputs": [
    {
     "data": {
      "text/plain": [
       "[x == x,\n",
       " f(x) == (b1 + b2 + b3 + b4)*f(x),\n",
       " 1/2*f(x)*diff(f(x), x) == (a21*b2 + (a31 + a32)*b3 + (a41 + a42 + a43)*b4)*f(x)*diff(f(x), x),\n",
       " 1/6*f(x)*diff(f(x), x)^2 + 1/6*f(x)^2*diff(f(x), x, x) == (a21*a32*b3 + (a21*a42 + (a31 + a32)*a43)*b4)*f(x)*diff(f(x), x)^2 + 1/2*(a21^2*b2 + (a31^2 + 2*a31*a32 + a32^2)*b3 + (a41^2 + 2*a41*a42 + a42^2 + 2*(a41 + a42)*a43 + a43^2)*b4)*f(x)^2*diff(f(x), x, x),\n",
       " 1/24*f(x)*diff(f(x), x)^3 + 1/6*f(x)^2*diff(f(x), x)*diff(f(x), x, x) + 1/24*f(x)^3*diff(f(x), x, x, x) == a21*a32*a43*b4*f(x)*diff(f(x), x)^3 + 1/2*((2*a21*a32^2 + (a21^2 + 2*a21*a31)*a32)*b3 + (2*a21*a42^2 + 2*(a31 + a32)*a43^2 + (a21^2 + 2*a21*a41)*a42 + (a31^2 + 2*a31*a32 + a32^2 + 2*(a31 + a32)*a41 + 2*(a21 + a31 + a32)*a42)*a43)*b4)*f(x)^2*diff(f(x), x)*diff(f(x), x, x) + 1/6*(a21^3*b2 + (a31^3 + 3*a31^2*a32 + 3*a31*a32^2 + a32^3)*b3 + (a41^3 + 3*a41^2*a42 + 3*a41*a42^2 + a42^3 + 3*(a41 + a42)*a43^2 + a43^3 + 3*(a41^2 + 2*a41*a42 + a42^2)*a43)*b4)*f(x)^3*diff(f(x), x, x, x)]"
      ]
     },
     "execution_count": 249,
     "metadata": {},
     "output_type": "execute_result"
    }
   ],
   "source": [
    "C = {\n",
    "    a3: 1/6,\n",
    "    a4: 1/3,\n",
    "    a5: 1/3,\n",
    "    a6: 1/6,\n",
    "    a1: 1/2,\n",
    "    a0: 1/2,\n",
    "    a2: 1\n",
    "}\n",
    "s = Scheme([x,t],[f,None], a_param, rk4().subs(C), order = 4)\n",
    "s.parametric_eqs()"
   ]
  },
  {
   "cell_type": "code",
   "execution_count": 250,
   "metadata": {},
   "outputs": [
    {
     "data": {
      "text/plain": [
       "[a21*a32*a43*b4 - 1/24, a21*a32*b3 + a21*a42*b4 + a31*a43*b4 + a32*a43*b4 - 1/6, a21*a42*a43*b4^2 + a31*a43^2*b4^2 + a32*a43^2*b4^2 - 1/6*a43*b4 + 1/24*b3, a21*b2 + a31*b3 + a32*b3 + a41*b4 + a42*b4 + a43*b4 - 1/2, a31*a32*a43^2*b4^2 + a32^2*a43^2*b4^2 - 1/6*a32*a43*b4 + 1/24*a32*b3 + 1/24*a42*b4, a31*a32*a43*b3*b4 + a32^2*a43*b3*b4 + a32*a41*a43*b4^2 + a32*a42*a43*b4^2 + a32*a43^2*b4^2 - 1/2*a32*a43*b4 + 1/24*b2, a31*a32*b3^2 + a31*a42*b3*b4 - a31*a43*b2*b4 + a32^2*b3^2 + a32*a41*b3*b4 + 2*a32*a42*b3*b4 - a32*a43*b2*b4 + a32*a43*b3*b4 - 1/2*a32*b3 + a41*a42*b4^2 + a42^2*b4^2 + a42*a43*b4^2 - 1/2*a42*b4 + 1/6*b2, a31*a42*a43*b3*b4^2 - a31*a43^2*b2*b4^2 + a32*a42*a43*b3*b4^2 - a32*a43^2*b2*b4^2 + a41*a42*a43*b4^3 + a42^2*a43*b4^3 + a42*a43^2*b4^3 - 1/2*a42*a43*b4^2 + 1/6*a43*b2*b4 - 1/24*b2*b3, a32*a41*a43^2*b4^3 + a32*a42*a43^2*b4^3 + a32*a43^3*b4^3 - 1/2*a32*a43^2*b4^2 + 1/6*a32*a43*b3*b4 - 1/24*a32*b3^2 - 1/24*a42*b3*b4 + 1/24*a43*b2*b4, b1 + b2 + b3 + b4 - 1]"
      ]
     },
     "execution_count": 250,
     "metadata": {},
     "output_type": "execute_result"
    }
   ],
   "source": [
    "s.coefficients(right = x)"
   ]
  },
  {
   "cell_type": "markdown",
   "metadata": {},
   "source": [
    "### Дифференциально-параметрическая схема 3-го порядкаx"
   ]
  },
  {
   "cell_type": "code",
   "execution_count": 251,
   "metadata": {},
   "outputs": [
    {
     "name": "stdout",
     "output_type": "stream",
     "text": [
      "Cloning into 'fdm'...\n",
      "remote: Enumerating objects: 332, done.\u001b[K\n",
      "remote: Counting objects: 100% (181/181), done.\u001b[K\n",
      "remote: Compressing objects: 100% (87/87), done.\u001b[K\n",
      "remote: Total 332 (delta 101), reused 172 (delta 93), pack-reused 151\u001b[K\n",
      "Receiving objects: 100% (332/332), 4.56 MiB | 448.00 KiB/s, done.\n",
      "Resolving deltas: 100% (177/177), done.\n",
      "/Users/daddy/projects/dps/examples/fdm\n",
      "/Users/daddy/projects/dps/examples\n"
     ]
    }
   ],
   "source": [
    "!git clone https://github.com/malykhmd/fdm\n",
    "%cd fdm\n",
    "load('fdm.sage')\n",
    "%cd ..\n",
    "!rm -rf fdm/ "
   ]
  },
  {
   "cell_type": "markdown",
   "metadata": {},
   "source": [
    "$$\n",
    "\\left \\{ \\begin{aligned} &\n",
    "\\frac{d}{dt} x = y , \\quad  \\frac{d}{dt} y = -x , \\\\ &\n",
    "x (0)= 0 , \\quad y (0)= 1\n",
    "\\end{aligned} \\right.\n",
    "$$"
   ]
  },
  {
   "cell_type": "code",
   "execution_count": 252,
   "metadata": {},
   "outputs": [],
   "source": [
    "var(\"x1,x2\")\n",
    "pr1 = Initial_problem([x1,x2],[x2,-x1],[0,1],10)"
   ]
  },
  {
   "cell_type": "code",
   "execution_count": 253,
   "metadata": {},
   "outputs": [],
   "source": [
    "L = function('L') # оператор\n",
    "dp3 = F = a0*f(x)+ a1*L(f(x))*dt + a2*f(x + a3*f(x)*dt + a4*L(f(x))*dt^2)"
   ]
  },
  {
   "cell_type": "code",
   "execution_count": 254,
   "metadata": {},
   "outputs": [
    {
     "data": {
      "text/plain": [
       "[x == x,\n",
       " f(x) == (a0 + a2)*f(x),\n",
       " 1/2*f(x)*diff(f(x), x) == (a2*a3 + a1)*f(x)*diff(f(x), x),\n",
       " 1/6*f(x)*diff(f(x), x)^2 + 1/6*f(x)^2*diff(f(x), x, x) == 1/2*a2*a3^2*f(x)^2*diff(f(x), x, x) + a2*a4*f(x)*diff(f(x), x)^2]"
      ]
     },
     "execution_count": 254,
     "metadata": {},
     "output_type": "execute_result"
    }
   ],
   "source": [
    "s = Scheme([x,t],[f,L],a_param, dp3, order = 3)\n",
    "s.parametric_eqs()"
   ]
  },
  {
   "cell_type": "markdown",
   "metadata": {},
   "source": [
    "Тогда:"
   ]
  },
  {
   "cell_type": "code",
   "execution_count": 255,
   "metadata": {},
   "outputs": [],
   "source": [
    "C1 = {\n",
    "    a0: 6/9,\n",
    "    a1: 1/6,\n",
    "    a2: 3/9,\n",
    "    a3: 1,\n",
    "    a4: 1/2\n",
    "}\n",
    "C2 = {\n",
    "    a0: 1/4,\n",
    "    a1: 0,\n",
    "    a2: 3/4,\n",
    "    a3: 2/3,\n",
    "    a4: 2/9\n",
    "}"
   ]
  },
  {
   "cell_type": "code",
   "execution_count": 256,
   "metadata": {},
   "outputs": [
    {
     "data": {
      "text/plain": [
       "[x == x,\n",
       " f(x) == f(x),\n",
       " 1/2*f(x)*diff(f(x), x) == 1/2*f(x)*diff(f(x), x),\n",
       " 1/6*f(x)*diff(f(x), x)^2 + 1/6*f(x)^2*diff(f(x), x, x) == 1/6*f(x)*diff(f(x), x)^2 + 1/6*f(x)^2*diff(f(x), x, x)]"
      ]
     },
     "execution_count": 256,
     "metadata": {},
     "output_type": "execute_result"
    }
   ],
   "source": [
    "s_subs_1 = Scheme([x,t],[f,L],a_param, dp3.subs(C1), order = 3)\n",
    "s_subs_1.parametric_eqs()"
   ]
  },
  {
   "cell_type": "code",
   "execution_count": 257,
   "metadata": {},
   "outputs": [
    {
     "data": {
      "text/plain": [
       "[0]"
      ]
     },
     "execution_count": 257,
     "metadata": {},
     "output_type": "execute_result"
    }
   ],
   "source": [
    "s_subs = Scheme([x,t],[f,L],a_param, dp3.subs(C2), order = 3)\n",
    "s_subs.coefficients(-x)"
   ]
  },
  {
   "cell_type": "code",
   "execution_count": 258,
   "metadata": {},
   "outputs": [
    {
     "data": {
      "image/png": "[encoded data removed]",
      "text/plain": [
       "Graphics object consisting of 2 graphics primitives"
      ]
     },
     "execution_count": 258,
     "metadata": {},
     "output_type": "execute_result"
    }
   ],
   "source": [
    "pic = richardson_plot([dps(pr1, s, C1, N=10*2^n) for n in range(10)],x1,10, nmin=5, nmax=7); pic"
   ]
  },
  {
   "cell_type": "markdown",
   "metadata": {},
   "source": [
    "### Дифференциально-параметрическая схема 4-го порядка"
   ]
  },
  {
   "cell_type": "code",
   "execution_count": 259,
   "metadata": {},
   "outputs": [],
   "source": [
    "F = a0*f(x)+ a1*L(f(x))*dt +\\\n",
    "    a2*f(x + a3*f(x)*dt + a4*L(f(x))*dt^2) +\\\n",
    "    a4*f(x + a5*f(x)*dt + a6*L(f(x))*dt^2 + a7*L(L(f(x)))*dt^3) "
   ]
  },
  {
   "cell_type": "code",
   "execution_count": 260,
   "metadata": {},
   "outputs": [
    {
     "data": {
      "text/plain": [
       "[a0 + a4 - a6 + 4*a7 - 1, a1 - a3*a6 + 4*a3*a7 + a4*a5 - 1/2, a2 + a6 - 4*a7, a4*a7 - 1/24]"
      ]
     },
     "execution_count": 260,
     "metadata": {},
     "output_type": "execute_result"
    }
   ],
   "source": [
    "s = Scheme([x,t],[f,L],a_param, F, order = 4)\n",
    "s.coefficients(right = x)"
   ]
  },
  {
   "cell_type": "code",
   "execution_count": 261,
   "metadata": {},
   "outputs": [],
   "source": [
    "C = {\n",
    "    a0: 1/2,\n",
    "    a1: 5/24,\n",
    "    a2: 1/4,\n",
    "    a3: 2/3,\n",
    "    a4: 1/4,\n",
    "    a5: 1/2,\n",
    "    a6: 5/12,\n",
    "    a7: 1/6,\n",
    "}"
   ]
  },
  {
   "cell_type": "code",
   "execution_count": 262,
   "metadata": {
    "scrolled": true
   },
   "outputs": [],
   "source": [
    "sol = dps(pr1, s, C, N = 50)"
   ]
  },
  {
   "cell_type": "code",
   "execution_count": 263,
   "metadata": {},
   "outputs": [
    {
     "data": {
      "image/png": "[encoded data removed]",
      "text/plain": [
       "Graphics object consisting of 1 graphics primitive"
      ]
     },
     "execution_count": 263,
     "metadata": {},
     "output_type": "execute_result"
    }
   ],
   "source": [
    "sol.plot(t,x1)"
   ]
  },
  {
   "cell_type": "code",
   "execution_count": 264,
   "metadata": {},
   "outputs": [
    {
     "data": {
      "image/png": "[encoded data removed]",
      "text/plain": [
       "Graphics object consisting of 2 graphics primitives"
      ]
     },
     "execution_count": 264,
     "metadata": {},
     "output_type": "execute_result"
    }
   ],
   "source": [
    "richardson_plot([dps(pr1, s, C, N=10*2^n) for n in range(10)],x1,10)"
   ]
  },
  {
   "cell_type": "markdown",
   "metadata": {},
   "source": [
    "### Схема Шанкса"
   ]
  },
  {
   "cell_type": "code",
   "execution_count": 265,
   "metadata": {},
   "outputs": [],
   "source": [
    "def shanks():\n",
    "    f0 = f(x)\n",
    "    f1 = f(x + (1/192)*f0*dt)\n",
    "    f2 = f(x + (1/6)*dt*(-15*f0 + 16*f1))\n",
    "    f3 = f(x + (1/186)*dt*(4867*f0 - 5072*f1 + 298*f2))\n",
    "    f4 = f(x + (1/31)*dt*(-19995*f0 + 20896*f1 - 1025*f2 + 155*f3))\n",
    "    f5 = f(x + (1/5022)*dt*(-469805*f0 + 490960*f1 - 22736*f2 + 5580*f3 + 186*f4))\n",
    "    f6 = f(x + (1/2604)*dt*(914314*f0 - 955136*f1 + 47983*f2 - 6510*f3 - 558*f4 + 2511*f5))\n",
    "    return (1/300)*(14*f0 + 0*f1 + 81*f2 + 110*f3 + 0*f4 + 81*f5 + 14*f6)"
   ]
  },
  {
   "cell_type": "code",
   "execution_count": 266,
   "metadata": {},
   "outputs": [],
   "source": [
    "f = function('f')"
   ]
  },
  {
   "cell_type": "code",
   "execution_count": 267,
   "metadata": {},
   "outputs": [],
   "source": [
    "s = Scheme([x,t],[f,L],a_param, shanks(), order = 7)"
   ]
  },
  {
   "cell_type": "code",
   "execution_count": 268,
   "metadata": {},
   "outputs": [
    {
     "data": {
      "text/plain": [
       "[x == x,\n",
       " x == x,\n",
       " 1/2*x == 1/2*x,\n",
       " 1/6*x == 1/6*x,\n",
       " 1/24*x == 1/24*x,\n",
       " 1/120*x == 1/120*x,\n",
       " 1/720*x == 1/720*x,\n",
       " 1/5040*x == 149/803520*x]"
      ]
     },
     "execution_count": 268,
     "metadata": {},
     "output_type": "execute_result"
    }
   ],
   "source": [
    "s.parametric_eqs(x)"
   ]
  },
  {
   "cell_type": "code",
   "execution_count": 269,
   "metadata": {},
   "outputs": [
    {
     "data": {
      "text/plain": [
       "0.000198412698412698"
      ]
     },
     "execution_count": 269,
     "metadata": {},
     "output_type": "execute_result"
    }
   ],
   "source": [
    "RR(1/5040)"
   ]
  },
  {
   "cell_type": "code",
   "execution_count": 270,
   "metadata": {},
   "outputs": [
    {
     "data": {
      "text/plain": [
       "0.000185434090003982"
      ]
     },
     "execution_count": 270,
     "metadata": {},
     "output_type": "execute_result"
    }
   ],
   "source": [
    "RR(149/803520)"
   ]
  },
  {
   "cell_type": "code",
   "execution_count": 271,
   "metadata": {},
   "outputs": [],
   "source": [
    "TS = Butcher_tableau(7,[[[0,0,0,0,0,0,0],\\\n",
    "                         [1/192,0,0,0,0,0,0],\\\n",
    "                         [-15/6,16/6,0,0,0,0,0],\\\n",
    "                         [4867/186, -5072/186, 298/186, 0, 0, 0,0],\\\n",
    "                         [-19995/31, 20896/31, -1025/31, 155/31, 0, 0, 0],\\\n",
    "                         [-469805/5022, 490960/5022, -22736/5022, 5580/5022, 186/5022, 0, 0],\\\n",
    "                         [914314/2604, -955136/2604, 47983/2604, - 6510/2604, -558/2604, 2511/2604, 0]],\\\n",
    "                        [14/300, 0, 81/300, 110/300, 0, 81/300, 14/300]],'7-7','Shanks')"
   ]
  },
  {
   "cell_type": "code",
   "execution_count": 272,
   "metadata": {},
   "outputs": [],
   "source": [
    "G = [erk(pr1,N=10*2^n, tableau = TS) for n in range(10)]"
   ]
  },
  {
   "cell_type": "code",
   "execution_count": 273,
   "metadata": {},
   "outputs": [
    {
     "data": {
      "image/png": "[encoded data removed]",
      "text/plain": [
       "Graphics object consisting of 2 graphics primitives"
      ]
     },
     "execution_count": 273,
     "metadata": {},
     "output_type": "execute_result"
    }
   ],
   "source": [
    "richardson_plot(G ,x1,10, nmin = 5, nmax = 7)"
   ]
  },
  {
   "cell_type": "markdown",
   "metadata": {},
   "source": [
    "$$\n",
    "\\left \\{ \\begin{aligned} &\n",
    "\\frac{d}{dt} q_{0} = p_{0} , \\quad \\frac{d}{dt} q_{1} = p_{1} , \\quad \\frac{d}{dt} q_{2} = p_{2} , \\quad \\frac{d}{dt} p_{0} = -\\frac{6}{5} \\, q_{0} - \\frac{1}{5} \\, q_{1} - \\frac{1}{5} \\, q_{2} , \\quad \\frac{d}{dt} p_{1} = -\\frac{1}{5} \\, q_{0} - \\frac{6}{5} \\, q_{1} - \\frac{1}{5} \\, q_{2} , \\quad  \\frac{d}{dt} p_{2} = -\\frac{1}{5} \\, q_{0} - \\frac{1}{5} \\, q_{1} - \\frac{6}{5} \\, q_{2} , \\\\ &\n",
    "q_{0} (0)= 0 , \\quad q_{1} (0)= 1 , \\quad q_{2} (0)= 4 , \\quad p_{0} (0)= 0 , \\quad p_{1} (0)= 0 , \\quad p_{2} (0)= 0\n",
    "\\end{aligned} \\right. \n",
    "$$"
   ]
  },
  {
   "cell_type": "code",
   "execution_count": 274,
   "metadata": {},
   "outputs": [],
   "source": [
    "n=3\n",
    "a=1\n",
    "b=1/10"
   ]
  },
  {
   "cell_type": "code",
   "execution_count": 275,
   "metadata": {},
   "outputs": [],
   "source": [
    "var(\"t\")\n",
    "q=var(['q'+str(i) for i in range(n)])\n",
    "p=var(['p'+str(i) for i in range(n)])\n",
    "H=sum([i^2 for i in p])/2 + sum([b*i*j for i in q for j in q]) + sum([a*i^2 for i in q])/2"
   ]
  },
  {
   "cell_type": "code",
   "execution_count": 276,
   "metadata": {},
   "outputs": [],
   "source": [
    "q0=[i^2 for i in range(n)]\n",
    "p0=[0 for i in range(n)]"
   ]
  },
  {
   "cell_type": "code",
   "execution_count": 277,
   "metadata": {},
   "outputs": [],
   "source": [
    "pr=Initial_problem(list(q+p),[diff(H,i) for i in p]+[-diff(H,i) for i in q],q0+p0, 20)"
   ]
  },
  {
   "cell_type": "code",
   "execution_count": 278,
   "metadata": {},
   "outputs": [],
   "source": [
    "G = [erk(pr,N=10*2^n, tableau = TS) for n in range(10)]"
   ]
  },
  {
   "cell_type": "code",
   "execution_count": 279,
   "metadata": {},
   "outputs": [
    {
     "data": {
      "image/png": "[encoded data removed]",
      "text/plain": [
       "Graphics object consisting of 2 graphics primitives"
      ]
     },
     "execution_count": 279,
     "metadata": {},
     "output_type": "execute_result"
    }
   ],
   "source": [
    "richardson_plot(G,q1,20, nmin = 3, nmax = 5)"
   ]
  },
  {
   "cell_type": "markdown",
   "metadata": {},
   "source": [
    "### Схемы большого порядка(??)"
   ]
  },
  {
   "cell_type": "code",
   "execution_count": 280,
   "metadata": {},
   "outputs": [
    {
     "data": {
      "text/plain": [
       "[0]"
      ]
     },
     "execution_count": 280,
     "metadata": {},
     "output_type": "execute_result"
    }
   ],
   "source": [
    "C = {\n",
    "    a0: 1/6,\n",
    "    a2: 1/6,\n",
    "    a5: 1/6,\n",
    "    a9: 1/6,\n",
    "    a14: 1/6,\n",
    "    a19: 1/6,\n",
    "    a22: 1/840,\n",
    "    a18: 1/120,\n",
    "    a13: 1/20,\n",
    "    a8: 1/16,\n",
    "    a12: 1/16,\n",
    "    a17: 1/16,\n",
    "    a21: 1/16,\n",
    "    a4: 10/16,\n",
    "    a7: 2/16,\n",
    "    a11: 2/16,\n",
    "    a16: 1/16,\n",
    "    a1: 1/2,\n",
    "    a3: 1,\n",
    "    a6: 1,\n",
    "    a10: 1,\n",
    "    a15: -2,\n",
    "    a20: -1\n",
    "}\n",
    "F = a0*f(x)+ a1*L(f(x))*dt +\\\n",
    "    a2*f(x + a3*f(x)*dt + a4*L(f(x))*dt^2) +\\\n",
    "    a5*f(x + a6*f(x)*dt + a7*L(f(x))*dt^2 + a8*L(L(f(x)))*dt^3) +\\\n",
    "    a9*f(x + a10*f(x)*dt + a11*L(f(x))*dt^2 + a12*L(L(f(x)))*dt^3 + a13*L(L(L(f(x))))*dt^4) +\\\n",
    "    a14*f(x + a15*f(x)*dt + a16*L(f(x))*dt^2 + a17*L(L(f(x)))*dt^3 + a18*L(L(L(L(f(x)))))*dt^5) +\\\n",
    "    a19*f(x + a20*f(x)*dt + a21*L(f(x))*dt^2 + a21*L(L(f(x)))*dt^3 + a22*L(L(L(L(L(f(x))))))*dt^6)\n",
    "s = Scheme([x,t],[f,L],a_param, F.subs(C), order = 7)\n",
    "s.coefficients(right = x)"
   ]
  },
  {
   "cell_type": "code",
   "execution_count": 281,
   "metadata": {},
   "outputs": [
    {
     "data": {
      "image/png": "[encoded data removed]",
      "text/plain": [
       "Graphics object consisting of 2 graphics primitives"
      ]
     },
     "execution_count": 281,
     "metadata": {},
     "output_type": "execute_result"
    }
   ],
   "source": [
    "richardson_plot([dps(pr1, s, C, N=10*2^n) for n in range(10)], x1, 10, nmin=3, nmax=5)"
   ]
  }
 ],
 "metadata": {
  "kernelspec": {
   "display_name": "SageMath 10.1",
   "language": "sage",
   "name": "SageMath-10.1"
  },
  "language_info": {
   "codemirror_mode": {
    "name": "ipython",
    "version": 3
   },
   "file_extension": ".py",
   "mimetype": "text/x-python",
   "name": "python",
   "nbconvert_exporter": "python",
   "pygments_lexer": "ipython3",
   "version": "3.11.1"
  }
 },
 "nbformat": 4,
 "nbformat_minor": 2
}
